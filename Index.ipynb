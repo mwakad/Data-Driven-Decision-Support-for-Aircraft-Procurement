{
 "cells": [
  {
   "cell_type": "markdown",
   "metadata": {},
   "source": [
    "![Daniel Mwaka Phase 1 Project](Images/DEHAVILLAND_DHC-8-311.png)"
   ]
  },
  {
   "cell_type": "markdown",
   "metadata": {},
   "source": [
    "# Data-Driven Decision Support for Aircraft Procument\n",
    "\n",
    "\n",
    "<strong>Student:</strong> Daniel Mwaka\n",
    "\n",
    "<strong> Student Pace:</strong> DSF-FT12-Hybrid\n",
    "\n",
    "<strong> Instructor:</strong> Samuel Karu    \n"
   ]
  },
  {
   "cell_type": "markdown",
   "metadata": {},
   "source": [
    "## Overview\n",
    "This project aims to support the company's data-driven decision to procure relatively low-risk airplane models to operate the fleet in the commercial and private enterprise sectors. It analyzes a dataset compiled by the National Transportation Safety board and retrieved from Kaggle.com. Presented recommendations are deduced from descriptive statistics results and backed-up by interactive visualizations modeled using Tableau Public. "
   ]
  },
  {
   "cell_type": "markdown",
   "metadata": {},
   "source": [
    "## Business Problem\n",
    "Venturing into a new industry avails a company of potential growth opportunities. Diversifying a company's portfolio lowers reliance on a single revenue stream (asset diversification) and optimizes resilience against unfavorable business environments/ factors (Luo, 2022). However, venturing into a highly sensitive sector, such as operating airplanes for commercial and private enterprises, necessitates data-driven decisions, strategic implementation, and formative performance evaluation (Altundag & Wynn, 2024). Purchasing airplane models prone to crashing poses a substantial risk to human life, brand image, competitiveness, profitability, and the company's longevity once it ventures into the new industry.  \n",
    "\n"
   ]
  },
  {
   "cell_type": "markdown",
   "metadata": {},
   "source": [
    "## Data Understanding\n",
    "The NTSB aviation accident database contains information on crashes and contingency incidents within the U.S., its territories, and across international waters from 1962 to 2023. The dataset was retrieved from Kaggle.com (NTSB, 2023). The dataset is formatted as a .csv file with 31 columns and 88889 rows. The columns are meticulously organized to capture variables of interest in aircraft accidents and incidents. Extracting, analyzing, and visualizing relevant data from the dataset is vital to shedding insight into the safest, low-risk airplane models for a new entrant to the commercial aviation industry.\n",
    "\n",
    "However, the dataset is enormous, contains some missing values duplicates, and needs to be customized to meet new entrants' needs aiming to purchase and operate airplanes for commercial and private enterprises. For instance, it contains data for airplane crashes across multiple scenarios (purpose of the flight), in which some cases exceed the target scope of the company. For this project, the target variables are categorized into Dimensions and Measures. The Dimension variables include: Event Date, Investigation Type, Aircraft Damage, Location, Make, Model, Weather Condition, and Purpose of Flight. The Measure variables include: The number of Engines, Total Fatal Injuries, Total Minor Injuries, and Total Uninjured passengers. The insights yielded from analyzing these variables and visualizing their respective relationships are deemed appropriate for deducing recommendations to support data-driven decisions by the company to procure a fleet that comprises safe, low-risk airplanes   \n"
   ]
  },
  {
   "cell_type": "code",
   "execution_count": 1,
   "metadata": {},
   "outputs": [],
   "source": [
    "# Importing standard packages\n",
    "import pandas as pd\n",
    "import numpy as np\n",
    "import matplotlib.pyplot as plt\n",
    "import seaborn as sns\n",
    "\n",
    "%matplotlib inline"
   ]
  },
  {
   "cell_type": "code",
   "execution_count": 2,
   "metadata": {},
   "outputs": [
    {
     "name": "stdout",
     "output_type": "stream",
     "text": [
      "This data set consists of 88889 rows\n",
      "This data set consists of 31 columns\n"
     ]
    }
   ],
   "source": [
    "# Loading the dataset and creating the master dataframe\n",
    "df_master = pd.read_csv(\"Data/AviationData.csv\", encoding='latin1', low_memory=False)\n",
    "df_master.shape\n",
    "print(f\"This data set consists of {df_master.shape[0]} rows\")\n",
    "print(f\"This data set consists of {df_master.shape[1]} columns\")"
   ]
  },
  {
   "cell_type": "markdown",
   "metadata": {},
   "source": [
    "Copying the initialy loaded DataFrame to perfom ETL processes without \n",
    "modifying df_master. "
   ]
  },
  {
   "cell_type": "code",
   "execution_count": 3,
   "metadata": {},
   "outputs": [
    {
     "name": "stdout",
     "output_type": "stream",
     "text": [
      "This data set consists of 88889 rows\n",
      "This data set consists of 31 columns\n"
     ]
    }
   ],
   "source": [
    "df=df_master.copy()\n",
    "df.shape\n",
    "print(f\"This data set consists of {df.shape[0]} rows\")\n",
    "print(f\"This data set consists of {df.shape[1]} columns\")"
   ]
  },
  {
   "cell_type": "code",
   "execution_count": 4,
   "metadata": {},
   "outputs": [
    {
     "data": {
      "text/html": [
       "<div>\n",
       "<style scoped>\n",
       "    .dataframe tbody tr th:only-of-type {\n",
       "        vertical-align: middle;\n",
       "    }\n",
       "\n",
       "    .dataframe tbody tr th {\n",
       "        vertical-align: top;\n",
       "    }\n",
       "\n",
       "    .dataframe thead th {\n",
       "        text-align: right;\n",
       "    }\n",
       "</style>\n",
       "<table border=\"1\" class=\"dataframe\">\n",
       "  <thead>\n",
       "    <tr style=\"text-align: right;\">\n",
       "      <th></th>\n",
       "      <th>Event.Id</th>\n",
       "      <th>Investigation.Type</th>\n",
       "      <th>Accident.Number</th>\n",
       "      <th>Event.Date</th>\n",
       "      <th>Location</th>\n",
       "      <th>Country</th>\n",
       "      <th>Latitude</th>\n",
       "      <th>Longitude</th>\n",
       "      <th>Airport.Code</th>\n",
       "      <th>Airport.Name</th>\n",
       "      <th>...</th>\n",
       "      <th>Purpose.of.flight</th>\n",
       "      <th>Air.carrier</th>\n",
       "      <th>Total.Fatal.Injuries</th>\n",
       "      <th>Total.Serious.Injuries</th>\n",
       "      <th>Total.Minor.Injuries</th>\n",
       "      <th>Total.Uninjured</th>\n",
       "      <th>Weather.Condition</th>\n",
       "      <th>Broad.phase.of.flight</th>\n",
       "      <th>Report.Status</th>\n",
       "      <th>Publication.Date</th>\n",
       "    </tr>\n",
       "  </thead>\n",
       "  <tbody>\n",
       "    <tr>\n",
       "      <th>0</th>\n",
       "      <td>20001218X45444</td>\n",
       "      <td>Accident</td>\n",
       "      <td>SEA87LA080</td>\n",
       "      <td>1948-10-24</td>\n",
       "      <td>MOOSE CREEK, ID</td>\n",
       "      <td>United States</td>\n",
       "      <td>NaN</td>\n",
       "      <td>NaN</td>\n",
       "      <td>NaN</td>\n",
       "      <td>NaN</td>\n",
       "      <td>...</td>\n",
       "      <td>Personal</td>\n",
       "      <td>NaN</td>\n",
       "      <td>2.0</td>\n",
       "      <td>0.0</td>\n",
       "      <td>0.0</td>\n",
       "      <td>0.0</td>\n",
       "      <td>UNK</td>\n",
       "      <td>Cruise</td>\n",
       "      <td>Probable Cause</td>\n",
       "      <td>NaN</td>\n",
       "    </tr>\n",
       "    <tr>\n",
       "      <th>1</th>\n",
       "      <td>20001218X45447</td>\n",
       "      <td>Accident</td>\n",
       "      <td>LAX94LA336</td>\n",
       "      <td>1962-07-19</td>\n",
       "      <td>BRIDGEPORT, CA</td>\n",
       "      <td>United States</td>\n",
       "      <td>NaN</td>\n",
       "      <td>NaN</td>\n",
       "      <td>NaN</td>\n",
       "      <td>NaN</td>\n",
       "      <td>...</td>\n",
       "      <td>Personal</td>\n",
       "      <td>NaN</td>\n",
       "      <td>4.0</td>\n",
       "      <td>0.0</td>\n",
       "      <td>0.0</td>\n",
       "      <td>0.0</td>\n",
       "      <td>UNK</td>\n",
       "      <td>Unknown</td>\n",
       "      <td>Probable Cause</td>\n",
       "      <td>19-09-1996</td>\n",
       "    </tr>\n",
       "    <tr>\n",
       "      <th>2</th>\n",
       "      <td>20061025X01555</td>\n",
       "      <td>Accident</td>\n",
       "      <td>NYC07LA005</td>\n",
       "      <td>1974-08-30</td>\n",
       "      <td>Saltville, VA</td>\n",
       "      <td>United States</td>\n",
       "      <td>36.922223</td>\n",
       "      <td>-81.878056</td>\n",
       "      <td>NaN</td>\n",
       "      <td>NaN</td>\n",
       "      <td>...</td>\n",
       "      <td>Personal</td>\n",
       "      <td>NaN</td>\n",
       "      <td>3.0</td>\n",
       "      <td>NaN</td>\n",
       "      <td>NaN</td>\n",
       "      <td>NaN</td>\n",
       "      <td>IMC</td>\n",
       "      <td>Cruise</td>\n",
       "      <td>Probable Cause</td>\n",
       "      <td>26-02-2007</td>\n",
       "    </tr>\n",
       "    <tr>\n",
       "      <th>3</th>\n",
       "      <td>20001218X45448</td>\n",
       "      <td>Accident</td>\n",
       "      <td>LAX96LA321</td>\n",
       "      <td>1977-06-19</td>\n",
       "      <td>EUREKA, CA</td>\n",
       "      <td>United States</td>\n",
       "      <td>NaN</td>\n",
       "      <td>NaN</td>\n",
       "      <td>NaN</td>\n",
       "      <td>NaN</td>\n",
       "      <td>...</td>\n",
       "      <td>Personal</td>\n",
       "      <td>NaN</td>\n",
       "      <td>2.0</td>\n",
       "      <td>0.0</td>\n",
       "      <td>0.0</td>\n",
       "      <td>0.0</td>\n",
       "      <td>IMC</td>\n",
       "      <td>Cruise</td>\n",
       "      <td>Probable Cause</td>\n",
       "      <td>12-09-2000</td>\n",
       "    </tr>\n",
       "    <tr>\n",
       "      <th>4</th>\n",
       "      <td>20041105X01764</td>\n",
       "      <td>Accident</td>\n",
       "      <td>CHI79FA064</td>\n",
       "      <td>1979-08-02</td>\n",
       "      <td>Canton, OH</td>\n",
       "      <td>United States</td>\n",
       "      <td>NaN</td>\n",
       "      <td>NaN</td>\n",
       "      <td>NaN</td>\n",
       "      <td>NaN</td>\n",
       "      <td>...</td>\n",
       "      <td>Personal</td>\n",
       "      <td>NaN</td>\n",
       "      <td>1.0</td>\n",
       "      <td>2.0</td>\n",
       "      <td>NaN</td>\n",
       "      <td>0.0</td>\n",
       "      <td>VMC</td>\n",
       "      <td>Approach</td>\n",
       "      <td>Probable Cause</td>\n",
       "      <td>16-04-1980</td>\n",
       "    </tr>\n",
       "  </tbody>\n",
       "</table>\n",
       "<p>5 rows × 31 columns</p>\n",
       "</div>"
      ],
      "text/plain": [
       "         Event.Id Investigation.Type Accident.Number  Event.Date  \\\n",
       "0  20001218X45444           Accident      SEA87LA080  1948-10-24   \n",
       "1  20001218X45447           Accident      LAX94LA336  1962-07-19   \n",
       "2  20061025X01555           Accident      NYC07LA005  1974-08-30   \n",
       "3  20001218X45448           Accident      LAX96LA321  1977-06-19   \n",
       "4  20041105X01764           Accident      CHI79FA064  1979-08-02   \n",
       "\n",
       "          Location        Country   Latitude   Longitude Airport.Code  \\\n",
       "0  MOOSE CREEK, ID  United States        NaN         NaN          NaN   \n",
       "1   BRIDGEPORT, CA  United States        NaN         NaN          NaN   \n",
       "2    Saltville, VA  United States  36.922223  -81.878056          NaN   \n",
       "3       EUREKA, CA  United States        NaN         NaN          NaN   \n",
       "4       Canton, OH  United States        NaN         NaN          NaN   \n",
       "\n",
       "  Airport.Name  ... Purpose.of.flight Air.carrier Total.Fatal.Injuries  \\\n",
       "0          NaN  ...          Personal         NaN                  2.0   \n",
       "1          NaN  ...          Personal         NaN                  4.0   \n",
       "2          NaN  ...          Personal         NaN                  3.0   \n",
       "3          NaN  ...          Personal         NaN                  2.0   \n",
       "4          NaN  ...          Personal         NaN                  1.0   \n",
       "\n",
       "  Total.Serious.Injuries Total.Minor.Injuries Total.Uninjured  \\\n",
       "0                    0.0                  0.0             0.0   \n",
       "1                    0.0                  0.0             0.0   \n",
       "2                    NaN                  NaN             NaN   \n",
       "3                    0.0                  0.0             0.0   \n",
       "4                    2.0                  NaN             0.0   \n",
       "\n",
       "  Weather.Condition  Broad.phase.of.flight   Report.Status Publication.Date  \n",
       "0               UNK                 Cruise  Probable Cause              NaN  \n",
       "1               UNK                Unknown  Probable Cause       19-09-1996  \n",
       "2               IMC                 Cruise  Probable Cause       26-02-2007  \n",
       "3               IMC                 Cruise  Probable Cause       12-09-2000  \n",
       "4               VMC               Approach  Probable Cause       16-04-1980  \n",
       "\n",
       "[5 rows x 31 columns]"
      ]
     },
     "execution_count": 4,
     "metadata": {},
     "output_type": "execute_result"
    }
   ],
   "source": [
    "df.head()"
   ]
  },
  {
   "cell_type": "code",
   "execution_count": 5,
   "metadata": {},
   "outputs": [
    {
     "name": "stdout",
     "output_type": "stream",
     "text": [
      "<class 'pandas.core.frame.DataFrame'>\n",
      "RangeIndex: 88889 entries, 0 to 88888\n",
      "Data columns (total 31 columns):\n",
      " #   Column                  Non-Null Count  Dtype  \n",
      "---  ------                  --------------  -----  \n",
      " 0   Event.Id                88889 non-null  object \n",
      " 1   Investigation.Type      88889 non-null  object \n",
      " 2   Accident.Number         88889 non-null  object \n",
      " 3   Event.Date              88889 non-null  object \n",
      " 4   Location                88837 non-null  object \n",
      " 5   Country                 88663 non-null  object \n",
      " 6   Latitude                34382 non-null  object \n",
      " 7   Longitude               34373 non-null  object \n",
      " 8   Airport.Code            50132 non-null  object \n",
      " 9   Airport.Name            52704 non-null  object \n",
      " 10  Injury.Severity         87889 non-null  object \n",
      " 11  Aircraft.damage         85695 non-null  object \n",
      " 12  Aircraft.Category       32287 non-null  object \n",
      " 13  Registration.Number     87507 non-null  object \n",
      " 14  Make                    88826 non-null  object \n",
      " 15  Model                   88797 non-null  object \n",
      " 16  Amateur.Built           88787 non-null  object \n",
      " 17  Number.of.Engines       82805 non-null  float64\n",
      " 18  Engine.Type             81793 non-null  object \n",
      " 19  FAR.Description         32023 non-null  object \n",
      " 20  Schedule                12582 non-null  object \n",
      " 21  Purpose.of.flight       82697 non-null  object \n",
      " 22  Air.carrier             16648 non-null  object \n",
      " 23  Total.Fatal.Injuries    77488 non-null  float64\n",
      " 24  Total.Serious.Injuries  76379 non-null  float64\n",
      " 25  Total.Minor.Injuries    76956 non-null  float64\n",
      " 26  Total.Uninjured         82977 non-null  float64\n",
      " 27  Weather.Condition       84397 non-null  object \n",
      " 28  Broad.phase.of.flight   61724 non-null  object \n",
      " 29  Report.Status           82505 non-null  object \n",
      " 30  Publication.Date        75118 non-null  object \n",
      "dtypes: float64(5), object(26)\n",
      "memory usage: 21.0+ MB\n"
     ]
    }
   ],
   "source": [
    "df.info()"
   ]
  },
  {
   "cell_type": "markdown",
   "metadata": {},
   "source": [
    "It is evident that the columns from 4th index to the 30th index are\n",
    "missing some data values. "
   ]
  },
  {
   "cell_type": "code",
   "execution_count": 6,
   "metadata": {},
   "outputs": [
    {
     "data": {
      "text/plain": [
       "Event.Id                   object\n",
       "Investigation.Type         object\n",
       "Accident.Number            object\n",
       "Event.Date                 object\n",
       "Location                   object\n",
       "Country                    object\n",
       "Latitude                   object\n",
       "Longitude                  object\n",
       "Airport.Code               object\n",
       "Airport.Name               object\n",
       "Injury.Severity            object\n",
       "Aircraft.damage            object\n",
       "Aircraft.Category          object\n",
       "Registration.Number        object\n",
       "Make                       object\n",
       "Model                      object\n",
       "Amateur.Built              object\n",
       "Number.of.Engines         float64\n",
       "Engine.Type                object\n",
       "FAR.Description            object\n",
       "Schedule                   object\n",
       "Purpose.of.flight          object\n",
       "Air.carrier                object\n",
       "Total.Fatal.Injuries      float64\n",
       "Total.Serious.Injuries    float64\n",
       "Total.Minor.Injuries      float64\n",
       "Total.Uninjured           float64\n",
       "Weather.Condition          object\n",
       "Broad.phase.of.flight      object\n",
       "Report.Status              object\n",
       "Publication.Date           object\n",
       "dtype: object"
      ]
     },
     "execution_count": 6,
     "metadata": {},
     "output_type": "execute_result"
    }
   ],
   "source": [
    "df.dtypes"
   ]
  },
  {
   "cell_type": "markdown",
   "metadata": {},
   "source": [
    "The data type for all the variables is either an object\n",
    "or a float. This information reveals the need for data type \n",
    "transformations (to be perfomed later). "
   ]
  },
  {
   "cell_type": "code",
   "execution_count": 7,
   "metadata": {},
   "outputs": [
    {
     "data": {
      "text/plain": [
       "Event.Id                      0\n",
       "Investigation.Type            0\n",
       "Accident.Number               0\n",
       "Event.Date                    0\n",
       "Location                     52\n",
       "Country                     226\n",
       "Latitude                  54507\n",
       "Longitude                 54516\n",
       "Airport.Code              38757\n",
       "Airport.Name              36185\n",
       "Injury.Severity            1000\n",
       "Aircraft.damage            3194\n",
       "Aircraft.Category         56602\n",
       "Registration.Number        1382\n",
       "Make                         63\n",
       "Model                        92\n",
       "Amateur.Built               102\n",
       "Number.of.Engines          6084\n",
       "Engine.Type                7096\n",
       "FAR.Description           56866\n",
       "Schedule                  76307\n",
       "Purpose.of.flight          6192\n",
       "Air.carrier               72241\n",
       "Total.Fatal.Injuries      11401\n",
       "Total.Serious.Injuries    12510\n",
       "Total.Minor.Injuries      11933\n",
       "Total.Uninjured            5912\n",
       "Weather.Condition          4492\n",
       "Broad.phase.of.flight     27165\n",
       "Report.Status              6384\n",
       "Publication.Date          13771\n",
       "dtype: int64"
      ]
     },
     "execution_count": 7,
     "metadata": {},
     "output_type": "execute_result"
    }
   ],
   "source": [
    "df.isna().sum()"
   ]
  },
  {
   "cell_type": "markdown",
   "metadata": {},
   "source": [
    "## Data Preparation\n",
    "Digital maturity in leveraging novel data analytics is the key driver for aircraft safety. Manufacturers use these technologies to design safer aircraft (Boyd & Stolzer, 2016). On the other hand, companies operating in the airline sector base their strategic procurement plans on data-supported decisions (Altundag & Wynn, 2024). The progressive scope in which key stakeholders in the airline sector are embracing data analytics is reflected in the cumulative number of aircraft accidents and accidents recorded by the NTSB for each decade. Additionally, structural and material design advancements progressively increase aircraft safety.\n",
    "Thus, the first step to cleaning the data is to convert the `Event.Date` format from an object to the datetime format and slice the DataFrame to capture data for accidents and incidents from 2000 to 2023. "
   ]
  },
  {
   "cell_type": "code",
   "execution_count": 8,
   "metadata": {},
   "outputs": [],
   "source": [
    "# Converting the 'Event.Date' column to a datetime dtype\n",
    "df['Event.Date'] = pd.to_datetime(df['Event.Date'], errors='coerce')\n",
    "# Incoporating conditionals to select the period between 2000 and 2023\n",
    "mask_2000_2023 = (df['Event.Date'].dt.year >= 2000) & (df['Event.Date'].dt.year <= 2023)\n",
    "# Applying the masks\n",
    "df = df[mask_2000_2023]"
   ]
  },
  {
   "cell_type": "markdown",
   "metadata": {},
   "source": [
    "As captured in the time-series plot below, the number of aircraft accidents and incidents has been dropping. The selected period is deemed appropriate because analyzing data for aircraft accidents and incidents before 2000 would comprise the reliability of deduced recommendations for real-world application in the 2020s."
   ]
  },
  {
   "cell_type": "code",
   "execution_count": 9,
   "metadata": {},
   "outputs": [
    {
     "name": "stderr",
     "output_type": "stream",
     "text": [
      "/tmp/ipykernel_15682/3113829321.py:5: FutureWarning: 'Y' is deprecated and will be removed in a future version, please use 'YE' instead.\n",
      "  yearly_counts = df.resample('Y').size()\n"
     ]
    },
    {
     "data": {
      "image/png": "[encoded data removed]",
      "text/plain": [
       "<Figure size 1200x600 with 1 Axes>"
      ]
     },
     "metadata": {},
     "output_type": "display_data"
    }
   ],
   "source": [
    "# Setting the 'Event.Date' as the index\n",
    "df.set_index('Event.Date', inplace=True)\n",
    "\n",
    "# Resampling the data to count incidents per year (year-end)\n",
    "yearly_counts = df.resample('Y').size()  \n",
    "\n",
    "# Creating the time series line plot\n",
    "plt.figure(figsize=(12, 6))\n",
    "plt.plot(yearly_counts.index, yearly_counts.values, marker='o', linestyle='-')\n",
    "\n",
    "plt.title('Aircraft Accidents/Incidents Over Time')\n",
    "plt.xlabel('Year')\n",
    "plt.ylabel('Number of Accidents/Incidents')\n",
    "plt.grid(True)\n",
    "plt.tight_layout()\n",
    "plt.show()"
   ]
  },
  {
   "cell_type": "markdown",
   "metadata": {},
   "source": [
    "The second step is dropping all the columns deemed inappropriate for this project"
   ]
  },
  {
   "cell_type": "code",
   "execution_count": 10,
   "metadata": {},
   "outputs": [],
   "source": [
    "# Dropping columns with data deemed inappropriate per the project's objectives\n",
    "columns_to_drop = ['Event.Id', 'Latitude', 'Longitude', 'Airport.Code', 'Airport.Name', 'Aircraft.Category', 'Registration.Number', 'FAR.Description', 'Schedule', 'Air.carrier', 'Publication.Date', 'Injury.Severity', 'Report.Status', 'Broad.phase.of.flight', 'Amateur.Built','Accident.Number']\n",
    "df.drop(columns = columns_to_drop, inplace=True)"
   ]
  },
  {
   "cell_type": "code",
   "execution_count": 11,
   "metadata": {},
   "outputs": [
    {
     "name": "stdout",
     "output_type": "stream",
     "text": [
      "This data set consists of 41214 rows\n",
      "This data set consists of 14 columns\n"
     ]
    }
   ],
   "source": [
    "df.shape\n",
    "print(f\"This data set consists of {df.shape[0]} rows\")\n",
    "print(f\"This data set consists of {df.shape[1]} columns\")"
   ]
  },
  {
   "cell_type": "code",
   "execution_count": 12,
   "metadata": {},
   "outputs": [
    {
     "data": {
      "text/plain": [
       "Investigation.Type         object\n",
       "Location                   object\n",
       "Country                    object\n",
       "Aircraft.damage            object\n",
       "Make                       object\n",
       "Model                      object\n",
       "Number.of.Engines         float64\n",
       "Engine.Type                object\n",
       "Purpose.of.flight          object\n",
       "Total.Fatal.Injuries      float64\n",
       "Total.Serious.Injuries    float64\n",
       "Total.Minor.Injuries      float64\n",
       "Total.Uninjured           float64\n",
       "Weather.Condition          object\n",
       "dtype: object"
      ]
     },
     "execution_count": 12,
     "metadata": {},
     "output_type": "execute_result"
    }
   ],
   "source": [
    "df.dtypes"
   ]
  },
  {
   "cell_type": "markdown",
   "metadata": {},
   "source": [
    "Droping rows for entries with NaNs except for the float data type columns. The missing values for `Number.of.Engines` are also dropped because the number of engines in an aircraft despite being an interger represent an object and the variable is discrete. "
   ]
  },
  {
   "cell_type": "code",
   "execution_count": 13,
   "metadata": {},
   "outputs": [],
   "source": [
    "df = df.dropna(subset=['Location'])\n",
    "df = df.dropna(subset=['Aircraft.damage'])\n",
    "df = df.dropna(subset=['Make'])\n",
    "df = df.dropna(subset=['Model'])\n",
    "df = df.dropna(subset=['Number.of.Engines'])\n",
    "df = df.dropna(subset=['Engine.Type'])\n",
    "df = df.dropna(subset=['Purpose.of.flight'])\n",
    "df = df.dropna(subset=['Weather.Condition'])"
   ]
  },
  {
   "cell_type": "code",
   "execution_count": 14,
   "metadata": {},
   "outputs": [
    {
     "data": {
      "text/plain": [
       "Investigation.Type            0\n",
       "Location                      0\n",
       "Country                       8\n",
       "Aircraft.damage               0\n",
       "Make                          0\n",
       "Model                         0\n",
       "Number.of.Engines             0\n",
       "Engine.Type                   0\n",
       "Purpose.of.flight             0\n",
       "Total.Fatal.Injuries       9213\n",
       "Total.Serious.Injuries    10005\n",
       "Total.Minor.Injuries       9283\n",
       "Total.Uninjured            4517\n",
       "Weather.Condition             0\n",
       "dtype: int64"
      ]
     },
     "execution_count": 14,
     "metadata": {},
     "output_type": "execute_result"
    }
   ],
   "source": [
    "df.isna().sum()"
   ]
  },
  {
   "cell_type": "markdown",
   "metadata": {},
   "source": [
    "The descriptive statistics for the float data type columns (except Number.of.Engines) are computed to determine the best approach to impute missing values."
   ]
  },
  {
   "cell_type": "code",
   "execution_count": 15,
   "metadata": {},
   "outputs": [
    {
     "name": "stdout",
     "output_type": "stream",
     "text": [
      "Descriptive Statistics for Total.Fatal.Injuries:\n",
      "count    20899.000000\n",
      "mean         0.448251\n",
      "std          1.111559\n",
      "min          0.000000\n",
      "25%          0.000000\n",
      "50%          0.000000\n",
      "75%          1.000000\n",
      "max         88.000000\n",
      "Name: Total.Fatal.Injuries, dtype: float64\n",
      "Descriptive Statistics for Total.Serious.Injuries:\n",
      "count    20107.000000\n",
      "mean         0.320635\n",
      "std          0.668375\n",
      "min          0.000000\n",
      "25%          0.000000\n",
      "50%          0.000000\n",
      "75%          0.000000\n",
      "max          9.000000\n",
      "Name: Total.Serious.Injuries, dtype: float64\n",
      "Descriptive Statistics for Total.Minor.Injuries:\n",
      "count    20829.000000\n",
      "mean         0.305151\n",
      "std          0.744433\n",
      "min          0.000000\n",
      "25%          0.000000\n",
      "50%          0.000000\n",
      "75%          0.000000\n",
      "max         42.000000\n",
      "Name: Total.Minor.Injuries, dtype: float64\n",
      "Descriptive Statistics for Total.Uninjured:\n",
      "count    25595.000000\n",
      "mean         1.396992\n",
      "std          5.918586\n",
      "min          0.000000\n",
      "25%          0.000000\n",
      "50%          1.000000\n",
      "75%          2.000000\n",
      "max        386.000000\n",
      "Name: Total.Uninjured, dtype: float64\n"
     ]
    }
   ],
   "source": [
    "# Computing the descriptive statistics for float dtype columns \n",
    "columns_to_check = ['Total.Fatal.Injuries', 'Total.Serious.Injuries', 'Total.Minor.Injuries', 'Total.Uninjured']\n",
    "\n",
    "for col in columns_to_check:\n",
    "    print(f\"Descriptive Statistics for {col}:\")\n",
    "    print(df[col].describe())"
   ]
  },
  {
   "cell_type": "markdown",
   "metadata": {},
   "source": [
    "All four variables exhibit right skewness, meaning most incidents have low injury counts. Since a few incidents have substantially higher counts, the median is more robust to outliers and better represents the typical value in skewed distributions. Thus, imputing missing values with the median for each column is more logical."
   ]
  },
  {
   "cell_type": "code",
   "execution_count": 16,
   "metadata": {},
   "outputs": [],
   "source": [
    "# Imputing missing values with the median\n",
    "df.loc[:, 'Total.Fatal.Injuries'] = df['Total.Fatal.Injuries'].fillna(df['Total.Fatal.Injuries'].median())\n",
    "df.loc[:, 'Total.Serious.Injuries'] = df['Total.Serious.Injuries'].fillna(df['Total.Serious.Injuries'].median())\n",
    "df.loc[:, 'Total.Minor.Injuries'] = df['Total.Minor.Injuries'].fillna(df['Total.Minor.Injuries'].median())\n",
    "df.loc[:, 'Total.Uninjured'] = df['Total.Uninjured'].fillna(df['Total.Uninjured'].median())"
   ]
  },
  {
   "cell_type": "code",
   "execution_count": 17,
   "metadata": {},
   "outputs": [
    {
     "name": "stdout",
     "output_type": "stream",
     "text": [
      "This data set consists of 30112 rows\n",
      "This data set consists of 14 columns\n"
     ]
    }
   ],
   "source": [
    "df.shape\n",
    "print(f\"This data set consists of {df.shape[0]} rows\")\n",
    "print(f\"This data set consists of {df.shape[1]} columns\")"
   ]
  },
  {
   "cell_type": "code",
   "execution_count": 18,
   "metadata": {},
   "outputs": [
    {
     "data": {
      "text/plain": [
       "Investigation.Type        0\n",
       "Location                  0\n",
       "Country                   8\n",
       "Aircraft.damage           0\n",
       "Make                      0\n",
       "Model                     0\n",
       "Number.of.Engines         0\n",
       "Engine.Type               0\n",
       "Purpose.of.flight         0\n",
       "Total.Fatal.Injuries      0\n",
       "Total.Serious.Injuries    0\n",
       "Total.Minor.Injuries      0\n",
       "Total.Uninjured           0\n",
       "Weather.Condition         0\n",
       "dtype: int64"
      ]
     },
     "execution_count": 18,
     "metadata": {},
     "output_type": "execute_result"
    }
   ],
   "source": [
    "df.isna().sum()"
   ]
  },
  {
   "cell_type": "markdown",
   "metadata": {},
   "source": [
    "Although the dataset doesnt have NANs, their could be entries assigned to an unknown variable  "
   ]
  },
  {
   "cell_type": "markdown",
   "metadata": {},
   "source": [
    "Using Lambda functions to drop unknown values for categorical columns"
   ]
  },
  {
   "cell_type": "code",
   "execution_count": 19,
   "metadata": {},
   "outputs": [
    {
     "data": {
      "text/plain": [
       "Aircraft.damage\n",
       "Substantial    25994\n",
       "Destroyed       3732\n",
       "Minor            380\n",
       "Unknown            6\n",
       "Name: count, dtype: int64"
      ]
     },
     "execution_count": 19,
     "metadata": {},
     "output_type": "execute_result"
    }
   ],
   "source": [
    "df['Aircraft.damage'].value_counts()"
   ]
  },
  {
   "cell_type": "code",
   "execution_count": 20,
   "metadata": {},
   "outputs": [],
   "source": [
    "#Using a lambda function to drop entries with unknown\n",
    "df = df[df['Aircraft.damage'].apply(lambda which_damage: which_damage != 'Unknown')]"
   ]
  },
  {
   "cell_type": "code",
   "execution_count": 21,
   "metadata": {},
   "outputs": [
    {
     "data": {
      "text/plain": [
       "Engine.Type\n",
       "Reciprocating    26916\n",
       "Turbo Prop        1367\n",
       "Turbo Shaft       1338\n",
       "Turbo Fan          294\n",
       "Turbo Jet          145\n",
       "Unknown             35\n",
       "Electric             7\n",
       "NONE                 2\n",
       "LR                   1\n",
       "UNK                  1\n",
       "Name: count, dtype: int64"
      ]
     },
     "execution_count": 21,
     "metadata": {},
     "output_type": "execute_result"
    }
   ],
   "source": [
    "df['Engine.Type'].value_counts()"
   ]
  },
  {
   "cell_type": "code",
   "execution_count": 22,
   "metadata": {},
   "outputs": [],
   "source": [
    "#Using a lambda function to drop entries with unknown\n",
    "df = df[df['Engine.Type'].apply(lambda drop_unknown: (drop_unknown != 'Unknown') & (drop_unknown != 'UNK')& (drop_unknown != 'NONE')& (drop_unknown != 'LR'))]"
   ]
  },
  {
   "cell_type": "code",
   "execution_count": 23,
   "metadata": {},
   "outputs": [
    {
     "data": {
      "text/plain": [
       "Purpose.of.flight\n",
       "Personal                     19833\n",
       "Instructional                 4329\n",
       "Aerial Application            1544\n",
       "Business                       876\n",
       "Positioning                    773\n",
       "Other Work Use                 486\n",
       "Flight Test                    344\n",
       "Aerial Observation             325\n",
       "Unknown                        314\n",
       "Public Aircraft                220\n",
       "Ferry                          169\n",
       "Executive/corporate            148\n",
       "Skydiving                      132\n",
       "Banner Tow                      94\n",
       "External Load                   92\n",
       "Public Aircraft - Federal       86\n",
       "Public Aircraft - Local         67\n",
       "Public Aircraft - State         60\n",
       "Air Race show                   57\n",
       "Air Race/show                   48\n",
       "Glider Tow                      35\n",
       "Firefighting                    22\n",
       "Air Drop                         8\n",
       "PUBS                             2\n",
       "ASHO                             2\n",
       "PUBL                             1\n",
       "Name: count, dtype: int64"
      ]
     },
     "execution_count": 23,
     "metadata": {},
     "output_type": "execute_result"
    }
   ],
   "source": [
    "df['Purpose.of.flight'].value_counts()"
   ]
  },
  {
   "cell_type": "code",
   "execution_count": 24,
   "metadata": {},
   "outputs": [],
   "source": [
    "# Using a Lambda function to select only entries whose purpose of flight are relevant to a new entrant to the commercial aviation industry\n",
    "df = df[df['Purpose.of.flight'].apply(lambda niche: niche in ['Aerial Application', 'Business', 'Executive/corporate'])]"
   ]
  },
  {
   "cell_type": "code",
   "execution_count": 25,
   "metadata": {},
   "outputs": [
    {
     "name": "stdout",
     "output_type": "stream",
     "text": [
      "This data set consists of 2568 rows\n",
      "This data set consists of 14 columns\n"
     ]
    }
   ],
   "source": [
    "df.shape\n",
    "print(f\"This data set consists of {df.shape[0]} rows\")\n",
    "print(f\"This data set consists of {df.shape[1]} columns\")"
   ]
  },
  {
   "cell_type": "code",
   "execution_count": 26,
   "metadata": {},
   "outputs": [
    {
     "data": {
      "text/plain": [
       "Weather.Condition\n",
       "VMC    2373\n",
       "IMC     191\n",
       "UNK       2\n",
       "Unk       2\n",
       "Name: count, dtype: int64"
      ]
     },
     "execution_count": 26,
     "metadata": {},
     "output_type": "execute_result"
    }
   ],
   "source": [
    "df['Weather.Condition'].value_counts()"
   ]
  },
  {
   "cell_type": "code",
   "execution_count": 27,
   "metadata": {},
   "outputs": [],
   "source": [
    "#Using a lambda function to drop entries with unknown\n",
    "df = df[df['Weather.Condition'].apply(lambda drop_unknown: (drop_unknown != 'Unk') & (drop_unknown != 'UNK'))]"
   ]
  },
  {
   "cell_type": "code",
   "execution_count": 28,
   "metadata": {},
   "outputs": [
    {
     "data": {
      "text/plain": [
       "Make\n",
       "Cessna                    265\n",
       "Air Tractor               220\n",
       "AIR TRACTOR INC           154\n",
       "CESSNA                    153\n",
       "Piper                     142\n",
       "                         ... \n",
       "Iv Inc.                     1\n",
       "Curtiss-wright              1\n",
       "Stinson                     1\n",
       "Consolidated-vultee         1\n",
       "ROBINSON HELICOPTER CO      1\n",
       "Name: count, Length: 294, dtype: int64"
      ]
     },
     "execution_count": 28,
     "metadata": {},
     "output_type": "execute_result"
    }
   ],
   "source": [
    "df['Make'].value_counts()"
   ]
  },
  {
   "cell_type": "markdown",
   "metadata": {},
   "source": [
    "Converting all the values in the `Make` column to uppercase"
   ]
  },
  {
   "cell_type": "code",
   "execution_count": 29,
   "metadata": {},
   "outputs": [],
   "source": [
    "df['Make'] = df['Make'].str.upper().str.strip()"
   ]
  },
  {
   "cell_type": "code",
   "execution_count": 30,
   "metadata": {},
   "outputs": [
    {
     "data": {
      "text/plain": [
       "Make\n",
       "CESSNA                    418\n",
       "AIR TRACTOR               265\n",
       "PIPER                     231\n",
       "BELL                      224\n",
       "AIR TRACTOR INC           156\n",
       "                         ... \n",
       "WALKER                      1\n",
       "THRUSH AIRCRAFT INC.        1\n",
       "WSK-PZL MIELIC              1\n",
       "NAVION                      1\n",
       "ROBINSON HELICOPTER CO      1\n",
       "Name: count, Length: 230, dtype: int64"
      ]
     },
     "execution_count": 30,
     "metadata": {},
     "output_type": "execute_result"
    }
   ],
   "source": [
    "df['Make'].value_counts()"
   ]
  },
  {
   "cell_type": "markdown",
   "metadata": {},
   "source": [
    "Since their is another USState.csv is another file attached (Presumed to be utilized in ploting a regional map in Tableau), the `Country` column is sliced to only feature rows whose value is United States"
   ]
  },
  {
   "cell_type": "code",
   "execution_count": 31,
   "metadata": {},
   "outputs": [],
   "source": [
    "# Using a lambda function to select entries for accidents and incidents that happened in the United States\n",
    "df = df[df['Country'].apply(lambda which_country: which_country == 'United States')]"
   ]
  },
  {
   "cell_type": "markdown",
   "metadata": {},
   "source": [
    "Spliting the state abbreviation section from the location's values and creating a new column `Abbreviation` to hold them. The created new column will facilitate the establishment of a relationship with the USState.csv dataset when plotting visualizations in Tableau Desktop."
   ]
  },
  {
   "cell_type": "code",
   "execution_count": 32,
   "metadata": {},
   "outputs": [],
   "source": [
    "# Creating a new column 'Abbreviation' and extracting the Abbreviations for the state codes of corresponding string value from the 'Location' column\n",
    "df['Abbreviation'] = df['Location'].apply(lambda x: x.split(', ')[-1] if isinstance(x, str) and ', ' in x else None)\n",
    "# Overwriting the 'Location' column with values that dont feature the Abbreviation part \n",
    "df['Location'] = df['Location'].apply(lambda x: x.split(', ')[0] if isinstance(x, str) and ', ' in x else x)\n",
    "# Removing the 'Abbreviation' column from the dataframe\n",
    "abbreviation_col = df.pop('Abbreviation')  \n",
    "# Inserting the 'Abbreviation' column next to the 'Location' column\n",
    "df.insert(df.columns.get_loc('Location') + 1, 'Abbreviation', abbreviation_col)  "
   ]
  },
  {
   "cell_type": "code",
   "execution_count": 33,
   "metadata": {},
   "outputs": [
    {
     "data": {
      "text/html": [
       "<div>\n",
       "<style scoped>\n",
       "    .dataframe tbody tr th:only-of-type {\n",
       "        vertical-align: middle;\n",
       "    }\n",
       "\n",
       "    .dataframe tbody tr th {\n",
       "        vertical-align: top;\n",
       "    }\n",
       "\n",
       "    .dataframe thead th {\n",
       "        text-align: right;\n",
       "    }\n",
       "</style>\n",
       "<table border=\"1\" class=\"dataframe\">\n",
       "  <thead>\n",
       "    <tr style=\"text-align: right;\">\n",
       "      <th></th>\n",
       "      <th>Investigation.Type</th>\n",
       "      <th>Location</th>\n",
       "      <th>Abbreviation</th>\n",
       "      <th>Country</th>\n",
       "      <th>Aircraft.damage</th>\n",
       "      <th>Make</th>\n",
       "      <th>Model</th>\n",
       "      <th>Number.of.Engines</th>\n",
       "      <th>Engine.Type</th>\n",
       "      <th>Purpose.of.flight</th>\n",
       "      <th>Total.Fatal.Injuries</th>\n",
       "      <th>Total.Serious.Injuries</th>\n",
       "      <th>Total.Minor.Injuries</th>\n",
       "      <th>Total.Uninjured</th>\n",
       "      <th>Weather.Condition</th>\n",
       "    </tr>\n",
       "    <tr>\n",
       "      <th>Event.Date</th>\n",
       "      <th></th>\n",
       "      <th></th>\n",
       "      <th></th>\n",
       "      <th></th>\n",
       "      <th></th>\n",
       "      <th></th>\n",
       "      <th></th>\n",
       "      <th></th>\n",
       "      <th></th>\n",
       "      <th></th>\n",
       "      <th></th>\n",
       "      <th></th>\n",
       "      <th></th>\n",
       "      <th></th>\n",
       "      <th></th>\n",
       "    </tr>\n",
       "  </thead>\n",
       "  <tbody>\n",
       "    <tr>\n",
       "      <th>2000-01-13</th>\n",
       "      <td>Accident</td>\n",
       "      <td>FILLMORE</td>\n",
       "      <td>UT</td>\n",
       "      <td>United States</td>\n",
       "      <td>Substantial</td>\n",
       "      <td>BEECH</td>\n",
       "      <td>K35</td>\n",
       "      <td>1.0</td>\n",
       "      <td>Reciprocating</td>\n",
       "      <td>Business</td>\n",
       "      <td>0.0</td>\n",
       "      <td>0.0</td>\n",
       "      <td>0.0</td>\n",
       "      <td>4.0</td>\n",
       "      <td>VMC</td>\n",
       "    </tr>\n",
       "    <tr>\n",
       "      <th>2000-01-18</th>\n",
       "      <td>Accident</td>\n",
       "      <td>BRAWLEY</td>\n",
       "      <td>CA</td>\n",
       "      <td>United States</td>\n",
       "      <td>Substantial</td>\n",
       "      <td>BELL</td>\n",
       "      <td>OH-58C</td>\n",
       "      <td>1.0</td>\n",
       "      <td>Turbo Shaft</td>\n",
       "      <td>Aerial Application</td>\n",
       "      <td>0.0</td>\n",
       "      <td>0.0</td>\n",
       "      <td>1.0</td>\n",
       "      <td>0.0</td>\n",
       "      <td>VMC</td>\n",
       "    </tr>\n",
       "    <tr>\n",
       "      <th>2000-01-18</th>\n",
       "      <td>Accident</td>\n",
       "      <td>SOMERSET</td>\n",
       "      <td>KY</td>\n",
       "      <td>United States</td>\n",
       "      <td>Destroyed</td>\n",
       "      <td>BEECH</td>\n",
       "      <td>C-90</td>\n",
       "      <td>2.0</td>\n",
       "      <td>Turbo Prop</td>\n",
       "      <td>Executive/corporate</td>\n",
       "      <td>4.0</td>\n",
       "      <td>0.0</td>\n",
       "      <td>0.0</td>\n",
       "      <td>0.0</td>\n",
       "      <td>IMC</td>\n",
       "    </tr>\n",
       "    <tr>\n",
       "      <th>2000-01-20</th>\n",
       "      <td>Accident</td>\n",
       "      <td>PLAINVILLE</td>\n",
       "      <td>CT</td>\n",
       "      <td>United States</td>\n",
       "      <td>Substantial</td>\n",
       "      <td>CESSNA</td>\n",
       "      <td>T310R</td>\n",
       "      <td>2.0</td>\n",
       "      <td>Reciprocating</td>\n",
       "      <td>Business</td>\n",
       "      <td>0.0</td>\n",
       "      <td>0.0</td>\n",
       "      <td>0.0</td>\n",
       "      <td>2.0</td>\n",
       "      <td>IMC</td>\n",
       "    </tr>\n",
       "    <tr>\n",
       "      <th>2000-01-25</th>\n",
       "      <td>Accident</td>\n",
       "      <td>RAYVILLE</td>\n",
       "      <td>LA</td>\n",
       "      <td>United States</td>\n",
       "      <td>Substantial</td>\n",
       "      <td>AIR TRACTOR</td>\n",
       "      <td>AT-401</td>\n",
       "      <td>1.0</td>\n",
       "      <td>Reciprocating</td>\n",
       "      <td>Aerial Application</td>\n",
       "      <td>0.0</td>\n",
       "      <td>0.0</td>\n",
       "      <td>0.0</td>\n",
       "      <td>1.0</td>\n",
       "      <td>VMC</td>\n",
       "    </tr>\n",
       "  </tbody>\n",
       "</table>\n",
       "</div>"
      ],
      "text/plain": [
       "           Investigation.Type    Location Abbreviation        Country  \\\n",
       "Event.Date                                                              \n",
       "2000-01-13           Accident    FILLMORE           UT  United States   \n",
       "2000-01-18           Accident     BRAWLEY           CA  United States   \n",
       "2000-01-18           Accident    SOMERSET           KY  United States   \n",
       "2000-01-20           Accident  PLAINVILLE           CT  United States   \n",
       "2000-01-25           Accident    RAYVILLE           LA  United States   \n",
       "\n",
       "           Aircraft.damage         Make   Model  Number.of.Engines  \\\n",
       "Event.Date                                                           \n",
       "2000-01-13     Substantial        BEECH     K35                1.0   \n",
       "2000-01-18     Substantial         BELL  OH-58C                1.0   \n",
       "2000-01-18       Destroyed        BEECH    C-90                2.0   \n",
       "2000-01-20     Substantial       CESSNA   T310R                2.0   \n",
       "2000-01-25     Substantial  AIR TRACTOR  AT-401                1.0   \n",
       "\n",
       "              Engine.Type    Purpose.of.flight  Total.Fatal.Injuries  \\\n",
       "Event.Date                                                             \n",
       "2000-01-13  Reciprocating             Business                   0.0   \n",
       "2000-01-18    Turbo Shaft   Aerial Application                   0.0   \n",
       "2000-01-18     Turbo Prop  Executive/corporate                   4.0   \n",
       "2000-01-20  Reciprocating             Business                   0.0   \n",
       "2000-01-25  Reciprocating   Aerial Application                   0.0   \n",
       "\n",
       "            Total.Serious.Injuries  Total.Minor.Injuries  Total.Uninjured  \\\n",
       "Event.Date                                                                  \n",
       "2000-01-13                     0.0                   0.0              4.0   \n",
       "2000-01-18                     0.0                   1.0              0.0   \n",
       "2000-01-18                     0.0                   0.0              0.0   \n",
       "2000-01-20                     0.0                   0.0              2.0   \n",
       "2000-01-25                     0.0                   0.0              1.0   \n",
       "\n",
       "           Weather.Condition  \n",
       "Event.Date                    \n",
       "2000-01-13               VMC  \n",
       "2000-01-18               VMC  \n",
       "2000-01-18               IMC  \n",
       "2000-01-20               IMC  \n",
       "2000-01-25               VMC  "
      ]
     },
     "execution_count": 33,
     "metadata": {},
     "output_type": "execute_result"
    }
   ],
   "source": [
    "df.head()"
   ]
  },
  {
   "cell_type": "markdown",
   "metadata": {},
   "source": [
    " Checking if there are missing values in the newly created `Abbreviations` folder"
   ]
  },
  {
   "cell_type": "code",
   "execution_count": 34,
   "metadata": {},
   "outputs": [
    {
     "data": {
      "text/plain": [
       "np.int64(4)"
      ]
     },
     "execution_count": 34,
     "metadata": {},
     "output_type": "execute_result"
    }
   ],
   "source": [
    "df['Abbreviation'].isna().sum()"
   ]
  },
  {
   "cell_type": "code",
   "execution_count": 35,
   "metadata": {},
   "outputs": [],
   "source": [
    "df = df.dropna(subset=['Abbreviation'])"
   ]
  },
  {
   "cell_type": "code",
   "execution_count": 36,
   "metadata": {},
   "outputs": [
    {
     "name": "stdout",
     "output_type": "stream",
     "text": [
      "This data set consists of 2531 rows\n",
      "This data set consists of 15 columns\n"
     ]
    }
   ],
   "source": [
    "df.shape\n",
    "print(f\"This data set consists of {df.shape[0]} rows\")\n",
    "print(f\"This data set consists of {df.shape[1]} columns\")"
   ]
  },
  {
   "cell_type": "markdown",
   "metadata": {},
   "source": [
    "Checking for duplicate rows"
   ]
  },
  {
   "cell_type": "code",
   "execution_count": 37,
   "metadata": {},
   "outputs": [
    {
     "data": {
      "text/plain": [
       "np.int64(16)"
      ]
     },
     "execution_count": 37,
     "metadata": {},
     "output_type": "execute_result"
    }
   ],
   "source": [
    "df.duplicated().sum()"
   ]
  },
  {
   "cell_type": "code",
   "execution_count": 38,
   "metadata": {},
   "outputs": [
    {
     "data": {
      "text/html": [
       "<div>\n",
       "<style scoped>\n",
       "    .dataframe tbody tr th:only-of-type {\n",
       "        vertical-align: middle;\n",
       "    }\n",
       "\n",
       "    .dataframe tbody tr th {\n",
       "        vertical-align: top;\n",
       "    }\n",
       "\n",
       "    .dataframe thead th {\n",
       "        text-align: right;\n",
       "    }\n",
       "</style>\n",
       "<table border=\"1\" class=\"dataframe\">\n",
       "  <thead>\n",
       "    <tr style=\"text-align: right;\">\n",
       "      <th></th>\n",
       "      <th>Investigation.Type</th>\n",
       "      <th>Location</th>\n",
       "      <th>Abbreviation</th>\n",
       "      <th>Country</th>\n",
       "      <th>Aircraft.damage</th>\n",
       "      <th>Make</th>\n",
       "      <th>Model</th>\n",
       "      <th>Number.of.Engines</th>\n",
       "      <th>Engine.Type</th>\n",
       "      <th>Purpose.of.flight</th>\n",
       "      <th>Total.Fatal.Injuries</th>\n",
       "      <th>Total.Serious.Injuries</th>\n",
       "      <th>Total.Minor.Injuries</th>\n",
       "      <th>Total.Uninjured</th>\n",
       "      <th>Weather.Condition</th>\n",
       "    </tr>\n",
       "    <tr>\n",
       "      <th>Event.Date</th>\n",
       "      <th></th>\n",
       "      <th></th>\n",
       "      <th></th>\n",
       "      <th></th>\n",
       "      <th></th>\n",
       "      <th></th>\n",
       "      <th></th>\n",
       "      <th></th>\n",
       "      <th></th>\n",
       "      <th></th>\n",
       "      <th></th>\n",
       "      <th></th>\n",
       "      <th></th>\n",
       "      <th></th>\n",
       "      <th></th>\n",
       "    </tr>\n",
       "  </thead>\n",
       "  <tbody>\n",
       "    <tr>\n",
       "      <th>2000-01-13</th>\n",
       "      <td>Accident</td>\n",
       "      <td>FILLMORE</td>\n",
       "      <td>UT</td>\n",
       "      <td>United States</td>\n",
       "      <td>Substantial</td>\n",
       "      <td>BEECH</td>\n",
       "      <td>K35</td>\n",
       "      <td>1.0</td>\n",
       "      <td>Reciprocating</td>\n",
       "      <td>Business</td>\n",
       "      <td>0.0</td>\n",
       "      <td>0.0</td>\n",
       "      <td>0.0</td>\n",
       "      <td>4.0</td>\n",
       "      <td>VMC</td>\n",
       "    </tr>\n",
       "    <tr>\n",
       "      <th>2000-01-18</th>\n",
       "      <td>Accident</td>\n",
       "      <td>BRAWLEY</td>\n",
       "      <td>CA</td>\n",
       "      <td>United States</td>\n",
       "      <td>Substantial</td>\n",
       "      <td>BELL</td>\n",
       "      <td>OH-58C</td>\n",
       "      <td>1.0</td>\n",
       "      <td>Turbo Shaft</td>\n",
       "      <td>Aerial Application</td>\n",
       "      <td>0.0</td>\n",
       "      <td>0.0</td>\n",
       "      <td>1.0</td>\n",
       "      <td>0.0</td>\n",
       "      <td>VMC</td>\n",
       "    </tr>\n",
       "    <tr>\n",
       "      <th>2000-01-18</th>\n",
       "      <td>Accident</td>\n",
       "      <td>SOMERSET</td>\n",
       "      <td>KY</td>\n",
       "      <td>United States</td>\n",
       "      <td>Destroyed</td>\n",
       "      <td>BEECH</td>\n",
       "      <td>C-90</td>\n",
       "      <td>2.0</td>\n",
       "      <td>Turbo Prop</td>\n",
       "      <td>Executive/corporate</td>\n",
       "      <td>4.0</td>\n",
       "      <td>0.0</td>\n",
       "      <td>0.0</td>\n",
       "      <td>0.0</td>\n",
       "      <td>IMC</td>\n",
       "    </tr>\n",
       "    <tr>\n",
       "      <th>2000-01-20</th>\n",
       "      <td>Accident</td>\n",
       "      <td>PLAINVILLE</td>\n",
       "      <td>CT</td>\n",
       "      <td>United States</td>\n",
       "      <td>Substantial</td>\n",
       "      <td>CESSNA</td>\n",
       "      <td>T310R</td>\n",
       "      <td>2.0</td>\n",
       "      <td>Reciprocating</td>\n",
       "      <td>Business</td>\n",
       "      <td>0.0</td>\n",
       "      <td>0.0</td>\n",
       "      <td>0.0</td>\n",
       "      <td>2.0</td>\n",
       "      <td>IMC</td>\n",
       "    </tr>\n",
       "    <tr>\n",
       "      <th>2000-01-25</th>\n",
       "      <td>Accident</td>\n",
       "      <td>RAYVILLE</td>\n",
       "      <td>LA</td>\n",
       "      <td>United States</td>\n",
       "      <td>Substantial</td>\n",
       "      <td>AIR TRACTOR</td>\n",
       "      <td>AT-401</td>\n",
       "      <td>1.0</td>\n",
       "      <td>Reciprocating</td>\n",
       "      <td>Aerial Application</td>\n",
       "      <td>0.0</td>\n",
       "      <td>0.0</td>\n",
       "      <td>0.0</td>\n",
       "      <td>1.0</td>\n",
       "      <td>VMC</td>\n",
       "    </tr>\n",
       "    <tr>\n",
       "      <th>...</th>\n",
       "      <td>...</td>\n",
       "      <td>...</td>\n",
       "      <td>...</td>\n",
       "      <td>...</td>\n",
       "      <td>...</td>\n",
       "      <td>...</td>\n",
       "      <td>...</td>\n",
       "      <td>...</td>\n",
       "      <td>...</td>\n",
       "      <td>...</td>\n",
       "      <td>...</td>\n",
       "      <td>...</td>\n",
       "      <td>...</td>\n",
       "      <td>...</td>\n",
       "      <td>...</td>\n",
       "    </tr>\n",
       "    <tr>\n",
       "      <th>2022-08-03</th>\n",
       "      <td>Accident</td>\n",
       "      <td>Melville</td>\n",
       "      <td>LA</td>\n",
       "      <td>United States</td>\n",
       "      <td>Substantial</td>\n",
       "      <td>AIR TRACTOR INC</td>\n",
       "      <td>AT-502B</td>\n",
       "      <td>1.0</td>\n",
       "      <td>Turbo Prop</td>\n",
       "      <td>Aerial Application</td>\n",
       "      <td>0.0</td>\n",
       "      <td>1.0</td>\n",
       "      <td>0.0</td>\n",
       "      <td>0.0</td>\n",
       "      <td>VMC</td>\n",
       "    </tr>\n",
       "    <tr>\n",
       "      <th>2022-08-05</th>\n",
       "      <td>Accident</td>\n",
       "      <td>Maynard</td>\n",
       "      <td>IA</td>\n",
       "      <td>United States</td>\n",
       "      <td>Substantial</td>\n",
       "      <td>ROBINSON HELICOPTER COMPANY</td>\n",
       "      <td>R44 II</td>\n",
       "      <td>1.0</td>\n",
       "      <td>Reciprocating</td>\n",
       "      <td>Aerial Application</td>\n",
       "      <td>0.0</td>\n",
       "      <td>0.0</td>\n",
       "      <td>0.0</td>\n",
       "      <td>1.0</td>\n",
       "      <td>VMC</td>\n",
       "    </tr>\n",
       "    <tr>\n",
       "      <th>2022-08-07</th>\n",
       "      <td>Accident</td>\n",
       "      <td>Circle</td>\n",
       "      <td>MT</td>\n",
       "      <td>United States</td>\n",
       "      <td>Substantial</td>\n",
       "      <td>AIR TRACTOR INC</td>\n",
       "      <td>AT-301</td>\n",
       "      <td>1.0</td>\n",
       "      <td>Reciprocating</td>\n",
       "      <td>Aerial Application</td>\n",
       "      <td>0.0</td>\n",
       "      <td>0.0</td>\n",
       "      <td>0.0</td>\n",
       "      <td>1.0</td>\n",
       "      <td>VMC</td>\n",
       "    </tr>\n",
       "    <tr>\n",
       "      <th>2022-08-16</th>\n",
       "      <td>Accident</td>\n",
       "      <td>Millville</td>\n",
       "      <td>MN</td>\n",
       "      <td>United States</td>\n",
       "      <td>Substantial</td>\n",
       "      <td>ROBINSON HELICOPTER CO</td>\n",
       "      <td>R66</td>\n",
       "      <td>1.0</td>\n",
       "      <td>Turbo Shaft</td>\n",
       "      <td>Aerial Application</td>\n",
       "      <td>0.0</td>\n",
       "      <td>0.0</td>\n",
       "      <td>0.0</td>\n",
       "      <td>1.0</td>\n",
       "      <td>VMC</td>\n",
       "    </tr>\n",
       "    <tr>\n",
       "      <th>2022-08-25</th>\n",
       "      <td>Accident</td>\n",
       "      <td>Murray</td>\n",
       "      <td>NE</td>\n",
       "      <td>United States</td>\n",
       "      <td>Substantial</td>\n",
       "      <td>AIR TRACTOR INC</td>\n",
       "      <td>AT-602</td>\n",
       "      <td>1.0</td>\n",
       "      <td>Turbo Prop</td>\n",
       "      <td>Aerial Application</td>\n",
       "      <td>0.0</td>\n",
       "      <td>0.0</td>\n",
       "      <td>0.0</td>\n",
       "      <td>1.0</td>\n",
       "      <td>VMC</td>\n",
       "    </tr>\n",
       "  </tbody>\n",
       "</table>\n",
       "<p>2515 rows × 15 columns</p>\n",
       "</div>"
      ],
      "text/plain": [
       "           Investigation.Type    Location Abbreviation        Country  \\\n",
       "Event.Date                                                              \n",
       "2000-01-13           Accident    FILLMORE           UT  United States   \n",
       "2000-01-18           Accident     BRAWLEY           CA  United States   \n",
       "2000-01-18           Accident    SOMERSET           KY  United States   \n",
       "2000-01-20           Accident  PLAINVILLE           CT  United States   \n",
       "2000-01-25           Accident    RAYVILLE           LA  United States   \n",
       "...                       ...         ...          ...            ...   \n",
       "2022-08-03           Accident    Melville           LA  United States   \n",
       "2022-08-05           Accident     Maynard           IA  United States   \n",
       "2022-08-07           Accident      Circle           MT  United States   \n",
       "2022-08-16           Accident   Millville           MN  United States   \n",
       "2022-08-25           Accident      Murray           NE  United States   \n",
       "\n",
       "           Aircraft.damage                         Make    Model  \\\n",
       "Event.Date                                                         \n",
       "2000-01-13     Substantial                        BEECH      K35   \n",
       "2000-01-18     Substantial                         BELL   OH-58C   \n",
       "2000-01-18       Destroyed                        BEECH     C-90   \n",
       "2000-01-20     Substantial                       CESSNA    T310R   \n",
       "2000-01-25     Substantial                  AIR TRACTOR   AT-401   \n",
       "...                    ...                          ...      ...   \n",
       "2022-08-03     Substantial              AIR TRACTOR INC  AT-502B   \n",
       "2022-08-05     Substantial  ROBINSON HELICOPTER COMPANY   R44 II   \n",
       "2022-08-07     Substantial              AIR TRACTOR INC   AT-301   \n",
       "2022-08-16     Substantial       ROBINSON HELICOPTER CO      R66   \n",
       "2022-08-25     Substantial              AIR TRACTOR INC   AT-602   \n",
       "\n",
       "            Number.of.Engines    Engine.Type    Purpose.of.flight  \\\n",
       "Event.Date                                                          \n",
       "2000-01-13                1.0  Reciprocating             Business   \n",
       "2000-01-18                1.0    Turbo Shaft   Aerial Application   \n",
       "2000-01-18                2.0     Turbo Prop  Executive/corporate   \n",
       "2000-01-20                2.0  Reciprocating             Business   \n",
       "2000-01-25                1.0  Reciprocating   Aerial Application   \n",
       "...                       ...            ...                  ...   \n",
       "2022-08-03                1.0     Turbo Prop   Aerial Application   \n",
       "2022-08-05                1.0  Reciprocating   Aerial Application   \n",
       "2022-08-07                1.0  Reciprocating   Aerial Application   \n",
       "2022-08-16                1.0    Turbo Shaft   Aerial Application   \n",
       "2022-08-25                1.0     Turbo Prop   Aerial Application   \n",
       "\n",
       "            Total.Fatal.Injuries  Total.Serious.Injuries  \\\n",
       "Event.Date                                                 \n",
       "2000-01-13                   0.0                     0.0   \n",
       "2000-01-18                   0.0                     0.0   \n",
       "2000-01-18                   4.0                     0.0   \n",
       "2000-01-20                   0.0                     0.0   \n",
       "2000-01-25                   0.0                     0.0   \n",
       "...                          ...                     ...   \n",
       "2022-08-03                   0.0                     1.0   \n",
       "2022-08-05                   0.0                     0.0   \n",
       "2022-08-07                   0.0                     0.0   \n",
       "2022-08-16                   0.0                     0.0   \n",
       "2022-08-25                   0.0                     0.0   \n",
       "\n",
       "            Total.Minor.Injuries  Total.Uninjured Weather.Condition  \n",
       "Event.Date                                                           \n",
       "2000-01-13                   0.0              4.0               VMC  \n",
       "2000-01-18                   1.0              0.0               VMC  \n",
       "2000-01-18                   0.0              0.0               IMC  \n",
       "2000-01-20                   0.0              2.0               IMC  \n",
       "2000-01-25                   0.0              1.0               VMC  \n",
       "...                          ...              ...               ...  \n",
       "2022-08-03                   0.0              0.0               VMC  \n",
       "2022-08-05                   0.0              1.0               VMC  \n",
       "2022-08-07                   0.0              1.0               VMC  \n",
       "2022-08-16                   0.0              1.0               VMC  \n",
       "2022-08-25                   0.0              1.0               VMC  \n",
       "\n",
       "[2515 rows x 15 columns]"
      ]
     },
     "execution_count": 38,
     "metadata": {},
     "output_type": "execute_result"
    }
   ],
   "source": [
    "df.drop_duplicates()"
   ]
  },
  {
   "cell_type": "code",
   "execution_count": 39,
   "metadata": {},
   "outputs": [
    {
     "data": {
      "text/plain": [
       "Investigation.Type         object\n",
       "Location                   object\n",
       "Abbreviation               object\n",
       "Country                    object\n",
       "Aircraft.damage            object\n",
       "Make                       object\n",
       "Model                      object\n",
       "Number.of.Engines         float64\n",
       "Engine.Type                object\n",
       "Purpose.of.flight          object\n",
       "Total.Fatal.Injuries      float64\n",
       "Total.Serious.Injuries    float64\n",
       "Total.Minor.Injuries      float64\n",
       "Total.Uninjured           float64\n",
       "Weather.Condition          object\n",
       "dtype: object"
      ]
     },
     "execution_count": 39,
     "metadata": {},
     "output_type": "execute_result"
    }
   ],
   "source": [
    "df.dtypes"
   ]
  },
  {
   "cell_type": "markdown",
   "metadata": {},
   "source": [
    "Making necessary transformations for the data type of the variables to their respective appropriate d-types"
   ]
  },
  {
   "cell_type": "code",
   "execution_count": 40,
   "metadata": {},
   "outputs": [],
   "source": [
    "df['Investigation.Type'] = df['Investigation.Type'].astype('category')\n",
    "df['Aircraft.damage'] = df['Aircraft.damage'].astype('category')\n",
    "df['Number.of.Engines'] = df['Number.of.Engines'].astype(str)\n",
    "df['Engine.Type'] = df['Engine.Type'].astype('category')\n",
    "df['Purpose.of.flight'] = df['Purpose.of.flight'].astype('category')\n",
    "df['Weather.Condition'] = df['Weather.Condition'].astype('category')\n"
   ]
  },
  {
   "cell_type": "code",
   "execution_count": 41,
   "metadata": {},
   "outputs": [
    {
     "data": {
      "text/plain": [
       "Investigation.Type        category\n",
       "Location                    object\n",
       "Abbreviation                object\n",
       "Country                     object\n",
       "Aircraft.damage           category\n",
       "Make                        object\n",
       "Model                       object\n",
       "Number.of.Engines           object\n",
       "Engine.Type               category\n",
       "Purpose.of.flight         category\n",
       "Total.Fatal.Injuries       float64\n",
       "Total.Serious.Injuries     float64\n",
       "Total.Minor.Injuries       float64\n",
       "Total.Uninjured            float64\n",
       "Weather.Condition         category\n",
       "dtype: object"
      ]
     },
     "execution_count": 41,
     "metadata": {},
     "output_type": "execute_result"
    }
   ],
   "source": [
    "df.dtypes"
   ]
  },
  {
   "cell_type": "markdown",
   "metadata": {},
   "source": [
    "Importing the cleaned dataset to a new .csv file"
   ]
  },
  {
   "cell_type": "code",
   "execution_count": 42,
   "metadata": {},
   "outputs": [],
   "source": [
    "df.to_csv(\"Data/bestest_aviation_data.csv\", index=False, encoding='latin1')"
   ]
  },
  {
   "cell_type": "markdown",
   "metadata": {},
   "source": [
    "## Data Modeling"
   ]
  },
  {
   "cell_type": "markdown",
   "metadata": {},
   "source": [
    "Loading the .csv file of the cleaned data "
   ]
  },
  {
   "cell_type": "code",
   "execution_count": 43,
   "metadata": {
    "scrolled": true
   },
   "outputs": [
    {
     "data": {
      "text/html": [
       "<div>\n",
       "<style scoped>\n",
       "    .dataframe tbody tr th:only-of-type {\n",
       "        vertical-align: middle;\n",
       "    }\n",
       "\n",
       "    .dataframe tbody tr th {\n",
       "        vertical-align: top;\n",
       "    }\n",
       "\n",
       "    .dataframe thead th {\n",
       "        text-align: right;\n",
       "    }\n",
       "</style>\n",
       "<table border=\"1\" class=\"dataframe\">\n",
       "  <thead>\n",
       "    <tr style=\"text-align: right;\">\n",
       "      <th></th>\n",
       "      <th>Investigation.Type</th>\n",
       "      <th>Location</th>\n",
       "      <th>Abbreviation</th>\n",
       "      <th>Country</th>\n",
       "      <th>Aircraft.damage</th>\n",
       "      <th>Make</th>\n",
       "      <th>Model</th>\n",
       "      <th>Number.of.Engines</th>\n",
       "      <th>Engine.Type</th>\n",
       "      <th>Purpose.of.flight</th>\n",
       "      <th>Total.Fatal.Injuries</th>\n",
       "      <th>Total.Serious.Injuries</th>\n",
       "      <th>Total.Minor.Injuries</th>\n",
       "      <th>Total.Uninjured</th>\n",
       "      <th>Weather.Condition</th>\n",
       "    </tr>\n",
       "  </thead>\n",
       "  <tbody>\n",
       "    <tr>\n",
       "      <th>0</th>\n",
       "      <td>Accident</td>\n",
       "      <td>FILLMORE</td>\n",
       "      <td>UT</td>\n",
       "      <td>United States</td>\n",
       "      <td>Substantial</td>\n",
       "      <td>BEECH</td>\n",
       "      <td>K35</td>\n",
       "      <td>1.0</td>\n",
       "      <td>Reciprocating</td>\n",
       "      <td>Business</td>\n",
       "      <td>0.0</td>\n",
       "      <td>0.0</td>\n",
       "      <td>0.0</td>\n",
       "      <td>4.0</td>\n",
       "      <td>VMC</td>\n",
       "    </tr>\n",
       "    <tr>\n",
       "      <th>1</th>\n",
       "      <td>Accident</td>\n",
       "      <td>BRAWLEY</td>\n",
       "      <td>CA</td>\n",
       "      <td>United States</td>\n",
       "      <td>Substantial</td>\n",
       "      <td>BELL</td>\n",
       "      <td>OH-58C</td>\n",
       "      <td>1.0</td>\n",
       "      <td>Turbo Shaft</td>\n",
       "      <td>Aerial Application</td>\n",
       "      <td>0.0</td>\n",
       "      <td>0.0</td>\n",
       "      <td>1.0</td>\n",
       "      <td>0.0</td>\n",
       "      <td>VMC</td>\n",
       "    </tr>\n",
       "    <tr>\n",
       "      <th>2</th>\n",
       "      <td>Accident</td>\n",
       "      <td>SOMERSET</td>\n",
       "      <td>KY</td>\n",
       "      <td>United States</td>\n",
       "      <td>Destroyed</td>\n",
       "      <td>BEECH</td>\n",
       "      <td>C-90</td>\n",
       "      <td>2.0</td>\n",
       "      <td>Turbo Prop</td>\n",
       "      <td>Executive/corporate</td>\n",
       "      <td>4.0</td>\n",
       "      <td>0.0</td>\n",
       "      <td>0.0</td>\n",
       "      <td>0.0</td>\n",
       "      <td>IMC</td>\n",
       "    </tr>\n",
       "    <tr>\n",
       "      <th>3</th>\n",
       "      <td>Accident</td>\n",
       "      <td>PLAINVILLE</td>\n",
       "      <td>CT</td>\n",
       "      <td>United States</td>\n",
       "      <td>Substantial</td>\n",
       "      <td>CESSNA</td>\n",
       "      <td>T310R</td>\n",
       "      <td>2.0</td>\n",
       "      <td>Reciprocating</td>\n",
       "      <td>Business</td>\n",
       "      <td>0.0</td>\n",
       "      <td>0.0</td>\n",
       "      <td>0.0</td>\n",
       "      <td>2.0</td>\n",
       "      <td>IMC</td>\n",
       "    </tr>\n",
       "    <tr>\n",
       "      <th>4</th>\n",
       "      <td>Accident</td>\n",
       "      <td>RAYVILLE</td>\n",
       "      <td>LA</td>\n",
       "      <td>United States</td>\n",
       "      <td>Substantial</td>\n",
       "      <td>AIR TRACTOR</td>\n",
       "      <td>AT-401</td>\n",
       "      <td>1.0</td>\n",
       "      <td>Reciprocating</td>\n",
       "      <td>Aerial Application</td>\n",
       "      <td>0.0</td>\n",
       "      <td>0.0</td>\n",
       "      <td>0.0</td>\n",
       "      <td>1.0</td>\n",
       "      <td>VMC</td>\n",
       "    </tr>\n",
       "  </tbody>\n",
       "</table>\n",
       "</div>"
      ],
      "text/plain": [
       "  Investigation.Type    Location Abbreviation        Country Aircraft.damage  \\\n",
       "0           Accident    FILLMORE           UT  United States     Substantial   \n",
       "1           Accident     BRAWLEY           CA  United States     Substantial   \n",
       "2           Accident    SOMERSET           KY  United States       Destroyed   \n",
       "3           Accident  PLAINVILLE           CT  United States     Substantial   \n",
       "4           Accident    RAYVILLE           LA  United States     Substantial   \n",
       "\n",
       "          Make   Model  Number.of.Engines    Engine.Type    Purpose.of.flight  \\\n",
       "0        BEECH     K35                1.0  Reciprocating             Business   \n",
       "1         BELL  OH-58C                1.0    Turbo Shaft   Aerial Application   \n",
       "2        BEECH    C-90                2.0     Turbo Prop  Executive/corporate   \n",
       "3       CESSNA   T310R                2.0  Reciprocating             Business   \n",
       "4  AIR TRACTOR  AT-401                1.0  Reciprocating   Aerial Application   \n",
       "\n",
       "   Total.Fatal.Injuries  Total.Serious.Injuries  Total.Minor.Injuries  \\\n",
       "0                   0.0                     0.0                   0.0   \n",
       "1                   0.0                     0.0                   1.0   \n",
       "2                   4.0                     0.0                   0.0   \n",
       "3                   0.0                     0.0                   0.0   \n",
       "4                   0.0                     0.0                   0.0   \n",
       "\n",
       "   Total.Uninjured Weather.Condition  \n",
       "0              4.0               VMC  \n",
       "1              0.0               VMC  \n",
       "2              0.0               IMC  \n",
       "3              2.0               IMC  \n",
       "4              1.0               VMC  "
      ]
     },
     "execution_count": 43,
     "metadata": {},
     "output_type": "execute_result"
    }
   ],
   "source": [
    "# Reading the cleaned .csv file and creating a new dataframe\n",
    "df_clean = pd.read_csv(\"Data/bestest_aviation_data.csv\",encoding='latin1', low_memory=False)\n",
    "df_clean.head()"
   ]
  },
  {
   "cell_type": "code",
   "execution_count": 44,
   "metadata": {},
   "outputs": [
    {
     "data": {
      "text/plain": [
       "Index(['Investigation.Type', 'Location', 'Abbreviation', 'Country',\n",
       "       'Aircraft.damage', 'Make', 'Model', 'Number.of.Engines', 'Engine.Type',\n",
       "       'Purpose.of.flight', 'Total.Fatal.Injuries', 'Total.Serious.Injuries',\n",
       "       'Total.Minor.Injuries', 'Total.Uninjured', 'Weather.Condition'],\n",
       "      dtype='object')"
      ]
     },
     "execution_count": 44,
     "metadata": {},
     "output_type": "execute_result"
    }
   ],
   "source": [
    "df_clean.columns"
   ]
  },
  {
   "cell_type": "markdown",
   "metadata": {},
   "source": [
    "### The Least Safe Aircrafts Overall"
   ]
  },
  {
   "cell_type": "markdown",
   "metadata": {},
   "source": [
    "To gain insight on the least safe aircrafts, I group the `Model` and the `Make` variable and plot a barplot against `Total.Fatal.Injuries`"
   ]
  },
  {
   "cell_type": "code",
   "execution_count": 45,
   "metadata": {},
   "outputs": [
    {
     "data": {
      "image/png": "[encoded data removed]",
      "text/plain": [
       "<Figure size 1000x800 with 1 Axes>"
      ]
     },
     "metadata": {},
     "output_type": "display_data"
    }
   ],
   "source": [
    "# Groupby 'Make' and 'Model', and sum 'Total.Uninjured'\n",
    "uninjured_by_make_model = df_clean.groupby(['Make', 'Model'])['Total.Fatal.Injuries'].sum().sort_values(ascending=False).head(10)\n",
    "# Creating a list of the Make and Model labels for the y-axis\n",
    "make_model_labels = [f\"{make} - {model}\" for make, model in uninjured_by_make_model.index]\n",
    "# Creating the horizontal bar plot using seaborn\n",
    "plt.figure(figsize=(10, 8)) \n",
    "sns.barplot(x=uninjured_by_make_model.values, y=make_model_labels, orient='h')\n",
    "\n",
    "plt.title('Most Risky Aircrafts by Total Fatalities')\n",
    "plt.xlabel('Total Fatalities')\n",
    "plt.ylabel('Make and Model')\n",
    "plt.tight_layout()\n",
    "plt.show()"
   ]
  },
  {
   "cell_type": "markdown",
   "metadata": {},
   "source": [
    "It is evident the that CESSNA aircraft accidents and incidents are the most fatal. "
   ]
  },
  {
   "cell_type": "markdown",
   "metadata": {},
   "source": [
    "### The Most Safe Aircrafts Overall"
   ]
  },
  {
   "cell_type": "markdown",
   "metadata": {},
   "source": [
    "To gain insight on the safest aircraft model and make, I group the `Model` and the `Make` variable and plot a barplot against `Total.Uninjured`"
   ]
  },
  {
   "cell_type": "code",
   "execution_count": 46,
   "metadata": {},
   "outputs": [
    {
     "data": {
      "image/png": "[encoded data removed]",
      "text/plain": [
       "<Figure size 1000x800 with 1 Axes>"
      ]
     },
     "metadata": {},
     "output_type": "display_data"
    }
   ],
   "source": [
    "# Group by 'Make' and 'Model', and sum 'Total.Uninjured'\n",
    "uninjured_by_make_model = df_clean.groupby(['Make', 'Model'])['Total.Uninjured'].sum().sort_values(ascending=False).head(10)\n",
    "\n",
    "# Creating a list of the Make and Model labels for the y-axis\n",
    "make_model_labels = [f\"{make} - {model}\" for make, model in uninjured_by_make_model.index]\n",
    "\n",
    "# Creating the horizontal bar plot using seaborn\n",
    "plt.figure(figsize=(10, 8)) \n",
    "sns.barplot(x=uninjured_by_make_model.values, y=make_model_labels, orient='h')\n",
    "plt.title('Most Safe Aircrafts by Total Uninjured Passengers')\n",
    "plt.xlabel('Total Uninjured Passengers')\n",
    "plt.ylabel('Make and Model')\n",
    "plt.tight_layout()\n",
    "plt.show()"
   ]
  },
  {
   "cell_type": "markdown",
   "metadata": {},
   "source": [
    "Determining the safest aircraft models for each of the three civil aviation services the company can venture into. The three categorical values for the `Purpose.of.Flight` columns are plotted in a barplot against uninjured passengers `Total.Uninjured`."
   ]
  },
  {
   "cell_type": "markdown",
   "metadata": {},
   "source": [
    "### Recommended Aircrafts for Targeted Aviation Services' Niche"
   ]
  },
  {
   "cell_type": "code",
   "execution_count": 58,
   "metadata": {
    "scrolled": true
   },
   "outputs": [
    {
     "data": {
      "image/png": "[encoded data removed]",
      "text/plain": [
       "<Figure size 1200x800 with 1 Axes>"
      ]
     },
     "metadata": {},
     "output_type": "display_data"
    }
   ],
   "source": [
    "# Filtering for the relevant Purpose.of.flight values\n",
    "df_filtered = df_clean[df_clean['Purpose.of.flight'].isin(['Aerial Application', 'Business', 'Executive/corporate'])]\n",
    "\n",
    "# Group by 'Purpose.of.flight', 'Make', and 'Model', and sum 'Total.Uninjured'\n",
    "uninjured_by_purpose_make_model = df_filtered.groupby(['Purpose.of.flight', 'Make', 'Model'], observed=True)['Total.Uninjured'].sum().reset_index()\n",
    "\n",
    "# Finding the safest aircraft (highest 'Total.Uninjured') for each purpose\n",
    "safest_aircraft = uninjured_by_purpose_make_model.loc[uninjured_by_purpose_make_model.groupby('Purpose.of.flight', observed=True)['Total.Uninjured'].idxmax()]\n",
    "\n",
    "# Creating the \"Make - Model\" column\n",
    "safest_aircraft['Make - Model'] = safest_aircraft['Make'] + ' - ' + safest_aircraft['Model']\n",
    "\n",
    "# Creating the bar plot using seaborn\n",
    "plt.figure(figsize=(12, 8))\n",
    "sns.barplot(x='Purpose.of.flight', y='Total.Uninjured', hue='Make - Model', data=safest_aircraft)\n",
    "plt.title('Safest Aircrafts by Purpose of Flight and Total Uninjured Passengers')\n",
    "plt.xlabel('Purpose of Flight')\n",
    "plt.ylabel('Total Uninjured Passengers')\n",
    "plt.legend(title='Make - Model')\n",
    "plt.tight_layout()\n",
    "plt.show()"
   ]
  },
  {
   "cell_type": "markdown",
   "metadata": {},
   "source": [
    "## Evaluation\n",
    "The baseline model shed the following insights:\n",
    "* The BEECH-200 (8-seater), the CESSNA-340A (6-seater), and the BEECH-A36 (6-seater), and the  are the top-three most risky aircrafts overall.\n",
    "* The CESSNA-A188B (1-seater), the BELL-206B (5-seater), and the GRUMMAN-G-164A (1-seater) are the top-three safest aircraft models overall.\n",
    "\n",
    "<strong>Recommendations:</strong>\n",
    "\n",
    "* The CESSNA-560XL (10-seater)is the safest aircraft for Executive/corporate flights.\n",
    "* The DEHAVILLAND-DHC-8-311 (50-seater) is the safest for business flights.\n",
    "* The CESSNA-A188B (1-seater) is the safest for Aerial Applications.\n",
    "\n",
    "The number of engines for these aircraft models. \n",
    "* BEECH-200: 2 engines   \n",
    "* CESSNA-340A:2 engines\n",
    "* BEECH-A36:1 engine\n",
    "* BELL-206B: 1 engine\n",
    "* GRUMMAN-G-164A: 1 engine\n",
    "* CESSNA-560XL: 2 engines   \n",
    "* CESSNA-A188B: 1 engine   \n",
    "* DEHAVILLAND-DHC-8-311: 2 engines   "
   ]
  },
  {
   "cell_type": "markdown",
   "metadata": {},
   "source": [
    "Multi-engine aircraft are typically safer than one-engine airplanes (Pilot Institute, 2023). Two-engine designs avail redundancy to propulsion units. Pilots can recalibrate controls and continue flying if one engine stalls or malfunctions. In contrast, such an incident in a single-engine aircraft poses a substantial risk of crashing if the gliding distance falls short of a runway or a relatively flat surface for an emergency landing. Thus, I modified the baseline model to drop row entries whose `Number.of.Engines` is less than 2."
   ]
  },
  {
   "cell_type": "code",
   "execution_count": 48,
   "metadata": {},
   "outputs": [
    {
     "name": "stdout",
     "output_type": "stream",
     "text": [
      "This data set consists of 2531 rows\n",
      "This data set consists of 15 columns\n"
     ]
    }
   ],
   "source": [
    "df_modified = df_clean.copy()\n",
    "df_modified.shape\n",
    "print(f\"This data set consists of {df_modified.shape[0]} rows\")\n",
    "print(f\"This data set consists of {df_modified.shape[1]} columns\")"
   ]
  },
  {
   "cell_type": "code",
   "execution_count": 49,
   "metadata": {},
   "outputs": [],
   "source": [
    "df_modified = df_modified[df_modified['Number.of.Engines'].apply(lambda x: x >= 2)]"
   ]
  },
  {
   "cell_type": "code",
   "execution_count": 50,
   "metadata": {},
   "outputs": [
    {
     "data": {
      "text/plain": [
       "Number.of.Engines\n",
       "2.0    369\n",
       "3.0      7\n",
       "4.0      3\n",
       "Name: count, dtype: int64"
      ]
     },
     "execution_count": 50,
     "metadata": {},
     "output_type": "execute_result"
    }
   ],
   "source": [
    "df_modified['Number.of.Engines'].value_counts()"
   ]
  },
  {
   "cell_type": "code",
   "execution_count": 51,
   "metadata": {},
   "outputs": [
    {
     "data": {
      "text/plain": [
       "(379, 15)"
      ]
     },
     "execution_count": 51,
     "metadata": {},
     "output_type": "execute_result"
    }
   ],
   "source": [
    "df_modified.shape"
   ]
  },
  {
   "cell_type": "markdown",
   "metadata": {},
   "source": [
    "Replotting bar plots to determine the most risky, the safest, and the appropriate airplanes (that have more than one engine) for the company's operations"
   ]
  },
  {
   "cell_type": "markdown",
   "metadata": {},
   "source": [
    "### The Least Safe Multi-Engine Aircrafts"
   ]
  },
  {
   "cell_type": "code",
   "execution_count": 52,
   "metadata": {},
   "outputs": [
    {
     "data": {
      "image/png": "[encoded data removed]",
      "text/plain": [
       "<Figure size 1000x800 with 1 Axes>"
      ]
     },
     "metadata": {},
     "output_type": "display_data"
    }
   ],
   "source": [
    "# Group by 'Make' and 'Model', and sum 'Total.Uninjured'\n",
    "uninjured_by_make_model = df_modified.groupby(['Make', 'Model'])['Total.Fatal.Injuries'].sum().sort_values(ascending=False).head(10)\n",
    "\n",
    "# Creating a list of the Make and Model labels for the y-axis\n",
    "make_model_labels = [f\"{make} - {model}\" for make, model in uninjured_by_make_model.index]\n",
    "\n",
    "# Creating the horizontal bar plot using seaborn\n",
    "plt.figure(figsize=(10, 8)) \n",
    "sns.barplot(x=uninjured_by_make_model.values, y=make_model_labels, orient='h')\n",
    "plt.title('Most Risky Multi-Engine Aircrafts by Total Fatalities')\n",
    "plt.xlabel('Total Fatalities')\n",
    "plt.ylabel('Make and Model')\n",
    "plt.tight_layout()\n",
    "plt.show()"
   ]
  },
  {
   "cell_type": "markdown",
   "metadata": {},
   "source": [
    "### The Most Safe Multi-Engine Aircrafts"
   ]
  },
  {
   "cell_type": "code",
   "execution_count": 53,
   "metadata": {},
   "outputs": [
    {
     "data": {
      "image/png": "[encoded data removed]",
      "text/plain": [
       "<Figure size 1000x800 with 1 Axes>"
      ]
     },
     "metadata": {},
     "output_type": "display_data"
    }
   ],
   "source": [
    "# Group by 'Make' and 'Model', and sum 'Total.Uninjured'\n",
    "uninjured_by_make_model = df_modified.groupby(['Make', 'Model'])['Total.Uninjured'].sum().sort_values(ascending=False).head(10)\n",
    "\n",
    "# Creating a list of the Make and Model labels for the y-axis\n",
    "make_model_labels = [f\"{make} - {model}\" for make, model in uninjured_by_make_model.index]\n",
    "\n",
    "# Creating the horizontal bar plot using seaborn\n",
    "plt.figure(figsize=(10, 8)) \n",
    "sns.barplot(x=uninjured_by_make_model.values, y=make_model_labels, orient='h')\n",
    "plt.title('Most Safe Multi-Engine Aircrafts by Total Uninjured Passengers')\n",
    "plt.xlabel('Total Uninjured Passengers')\n",
    "plt.ylabel('Make and Model')\n",
    "plt.tight_layout()\n",
    "plt.show()"
   ]
  },
  {
   "cell_type": "markdown",
   "metadata": {},
   "source": [
    "### Recommended Multi-Engine Aircrafts for Targeted Aviation Services' Niche"
   ]
  },
  {
   "cell_type": "code",
   "execution_count": 54,
   "metadata": {},
   "outputs": [
    {
     "data": {
      "image/png": "[encoded data removed]",
      "text/plain": [
       "<Figure size 1200x800 with 1 Axes>"
      ]
     },
     "metadata": {},
     "output_type": "display_data"
    }
   ],
   "source": [
    "# Filtering for the relevant Purpose.of.flight values\n",
    "df_filtered = df_modified[df_modified['Purpose.of.flight'].isin(['Aerial Application', 'Business', 'Executive/corporate'])]\n",
    "\n",
    "# Group by 'Purpose.of.flight', 'Make', and 'Model', and sum 'Total.Uninjured'\n",
    "uninjured_by_purpose_make_model = df_filtered.groupby(['Purpose.of.flight', 'Make', 'Model'], observed=True)['Total.Uninjured'].sum().reset_index()\n",
    "\n",
    "# Finding the safest aircraft (highest 'Total.Uninjured') for each purpose\n",
    "safest_aircraft = uninjured_by_purpose_make_model.loc[uninjured_by_purpose_make_model.groupby('Purpose.of.flight', observed=True)['Total.Uninjured'].idxmax()]\n",
    "\n",
    "# Creating the \"Make - Model\" column\n",
    "safest_aircraft['Make - Model'] = safest_aircraft['Make'] + ' - ' + safest_aircraft['Model']\n",
    "\n",
    "# Creating the bar plot using seaborn\n",
    "plt.figure(figsize=(12, 8))\n",
    "sns.barplot(x='Purpose.of.flight', y='Total.Uninjured', hue='Make - Model', data=safest_aircraft)\n",
    "plt.title('Safest Aircrafts by Purpose of Flight and Total Uninjured Passengers')\n",
    "plt.xlabel('Purpose of Flight')\n",
    "plt.ylabel('Total Uninjured Passengers')\n",
    "plt.legend(title='Make - Model')\n",
    "plt.tight_layout()\n",
    "plt.show()"
   ]
  },
  {
   "cell_type": "markdown",
   "metadata": {},
   "source": [
    "The modified model shed the following insights:\n",
    "* The BEECH-200 (13-seater), the CESSNA-340A (6-seater), and the BEECH-A400 (8-seater) are the top-three most risky multi-engine aircrafts overall.\n",
    "* The DEHAVILLAND DHC-8-311 (50-seater), the GULFSTREAM AEROSPACE-G-IV (10-seater), and the BEECH-200 (13-seater) are the top-three safest multi-engine aircraft models overall.\n",
    "\n",
    "<strong>Recommendations:</strong>\n",
    "\n",
    "* The CESSNA 560XL(10-seater)is the safest multi-engine aircraft for Executive/corporate flights.\n",
    "* The DEHAVILLAND -DHC-8-311(50-seater) is the safest multi-engine aircraft for business flights.\n",
    "* The MCDONNELL DOUGLAS-DC 10-10(250-seater) is the safest multi-engine aircraft for Aerial Applications.\n",
    "\n",
    "The number of engines for these aircraft models. \n",
    "* BEECH-200: 2 engines   \n",
    "* CESSNA-340A: 2 engines   \n",
    "* BEECH-A400: 2 engines\n",
    "* GULFSTREAM AEROSPACE-G-IV: 2 engines\n",
    "* CESSNA 560XL: 2 engines   \n",
    "* DEHAVILLAND DHC-8-311: 2 engines\n",
    "* MCDONNELL DOUGLAS -DC 10-10: 3 engines"
   ]
  },
  {
   "cell_type": "markdown",
   "metadata": {},
   "source": [
    "The findings from the results yielded by the baseline model are compared to those yielded by the modified model. After entering the industry, the recommended safest aircraft model for the aviation services the company will offer is based on respective applicability and operational logistics. "
   ]
  },
  {
   "cell_type": "markdown",
   "metadata": {},
   "source": [
    "## Conclusions\n",
    "The analysis yields three recommendations on the aircraft models the company should procure and operate after entering the commercial aviation industry.\n",
    "* <strong>The CESSNA-560XL aircraft is recommended for Executive/ Corporate flights:</strong> The baseline and modified model confirm the aircraft is safest for executive and corporate flights.   \n",
    "* <strong>The DEHAVILLAND DHC-8-311 aircraft is recommended for Business Flights:</strong> The baseline and modified model conform the aircraft is safest for business flights. \n",
    "* <strong>The CESSNA-A188B aircraft is recommended for Aerial Applications:</strong> The modified model proposes the MCDONNELL DOUGLAS-DC 10-10 (a three-engine, 250-seater) aircraft for aerial applications. The proposed alternative by the modified model is rejected because aerial applications typically include agricultural activities such as spraying crop fields. Hence, the single-egine CESSNA-A188B is recommended for aerial applications."
   ]
  },
  {
   "cell_type": "markdown",
   "metadata": {},
   "source": [
    "## References\n",
    "Altundag, A., & Wynn, M. (2024). Advanced Analytics and Data Management in the Procurement Function: An Aviation Industry Case Study. Electronics, 13(8), 1554.https://doi.org/10.3390/electronics13081554\n",
    "\n",
    "Boyd, D. D., & Stolzer, A. (2016). Accident-precipitating factors for crashes in turbine-powered general aviation aircraft. Accident Analysis & Prevention, 86, 209-216.https://doi.org/10.1016/j.aap.2015.10.024\n",
    "\n",
    "NTSB. (2023). Aviation Accident Database & Synopses, up to 2023 [Data set]. Kaggle. https://doi.org/10.34740/KAGGLE/DSV/4875576\n",
    "\n",
    "Luo, J. (2022). Data-driven innovation: What is it?. IEEE Transactions on Engineering Management, 70(2), 784-790.https://doi.org/10.1109/TEM.2022.3145231\n",
    "\n",
    "Pilot Institute. (2023). Single Engine Vs. Multi Engine: Which is Better? https://pilotinstitute.com/single-vs-multi-engine/\n"
   ]
  }
 ],
 "metadata": {
  "kernelspec": {
   "display_name": "Jupyter (Python 3.12.7)",
   "language": "python",
   "name": "jupyter_kernel"
  },
  "language_info": {
   "codemirror_mode": {
    "name": "ipython",
    "version": 3
   },
   "file_extension": ".py",
   "mimetype": "text/x-python",
   "name": "python",
   "nbconvert_exporter": "python",
   "pygments_lexer": "ipython3",
   "version": "3.12.7"
  }
 },
 "nbformat": 4,
 "nbformat_minor": 4
}
